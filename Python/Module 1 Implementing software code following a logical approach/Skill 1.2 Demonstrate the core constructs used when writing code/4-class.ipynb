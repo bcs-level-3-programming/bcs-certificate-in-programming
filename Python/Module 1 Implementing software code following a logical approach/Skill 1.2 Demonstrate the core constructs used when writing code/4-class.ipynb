{
 "cells": [
  {
   "cell_type": "markdown",
   "metadata": {},
   "source": [
    "# 4. Classes and Objects\n",
    "## a. Classes\n",
    "Classes are a fundamental concept in object-oriented programming (OOP) and serve as blueprints for creating objects. In OOP, an object is an instance of a class, and classes define the structure and behavior of those objects. Classes encapsulate data (attributes) and the functions (methods) that operate on that data, providing a powerful way to model real-world entities and their interactions in software.\n",
    "\n",
    "Key characteristics of classes include:\n",
    "\n",
    "1. __Blueprint for Objects:__ A class defines the attributes (data members) and methods (functions) that its objects will have. These attributes represent the object's state, while methods determine its behavior.\n",
    "\n",
    "2. __Encapsulation:__ Classes encapsulate data by controlling access to attributes through access modifiers (public, private, protected). This ensures data integrity and allows for the implementation of getter and setter methods to interact with the attributes.\n",
    "\n",
    "3. __Inheritance:__ Inheritance is a feature of OOP that allows one class to inherit attributes and methods from another class. It promotes code reuse and the creation of specialized classes based on existing ones.\n",
    "\n",
    "4. __Polymorphism:__ Polymorphism enables objects of different classes to be treated as objects of a common base class. This facilitates flexibility and extensibility in code, as different objects can respond to the same method call in a way that is appropriate for their specific class.\n",
    "\n",
    "5. __Instantiation:__ To use a class, you create objects (instances) of that class. Each object has its own set of attributes and can call the class's methods.\n",
    "\n",
    "Classes are a foundational concept in OOP languages like Java, C++, and Python, where they are used to structure code and model complex systems. They promote code organization, reusability, and maintainability by allowing developers to create objects that represent real-world entities and define their properties and behaviors."
   ]
  },
  {
   "cell_type": "code",
   "execution_count": null,
   "metadata": {},
   "outputs": [],
   "source": [
    "class Car:\n",
    "    def __init__(self, model): # Constructor\n",
    "        self.model = model # Property\n",
    "        def drive(self): # Method\n",
    "            pass"
   ]
  },
  {
   "cell_type": "markdown",
   "metadata": {},
   "source": [
    "## b. Objects\n",
    "### What is an object?\n",
    "An object is an instance of a class, representing a real-world entity. It embodies the data and behaviors described by the class. In the realm of object-oriented programming, objects are the practical actors that perform tasks, hold data, and interact with other objects.\n",
    "\n",
    "### Why do we use objects?\n",
    "#### Advantages of Objects:\n",
    "\n",
    "1. __Modularity:__ Objects can be designed as modular components.\n",
    "2. __Reusability:__ Objects can be reused across different parts of an application or different applications.\n",
    "3. __Real-World Mapping:__ Objects represent entities, making code more intuitive by mimicking real-world systems.\n",
    "4. __What are the disadvantages of objects?__\n",
    "* _Overhead:_ Creating and managing objects can introduce performance overhead.\n",
    "* _Complexity:_ Incorrectly designed objects can lead to complicated and tangled code.\n",
    "\n",
    "Taking the earlier analogy of a class being a blueprint for a house, an object would be the actual house built based on that blueprint. Every house built from the same blueprint (class) can have its unique address, paint color, and furniture, representing different object instances.\n",
    "\n",
    "Let's see this in action with the Car object previously defined:"
   ]
  },
  {
   "cell_type": "code",
   "execution_count": null,
   "metadata": {},
   "outputs": [],
   "source": [
    "class Car:\n",
    "    def __init__(self, model):  # Constructor\n",
    "        self.model = model  # Property\n",
    "\n",
    "    def drive(self):  # Method\n",
    "        pass\n",
    "\n",
    "my_car = Car(\"Toyota\")\n",
    "\n",
    "print(f\"My car is a {my_car.model}\")  # Access the 'model' property\n"
   ]
  }
 ],
 "metadata": {
  "kernelspec": {
   "display_name": "Python 3",
   "language": "python",
   "name": "python3"
  },
  "language_info": {
   "codemirror_mode": {
    "name": "ipython",
    "version": 3
   },
   "file_extension": ".py",
   "mimetype": "text/x-python",
   "name": "python",
   "nbconvert_exporter": "python",
   "pygments_lexer": "ipython3",
   "version": "3.10.11"
  },
  "orig_nbformat": 4
 },
 "nbformat": 4,
 "nbformat_minor": 2
}
