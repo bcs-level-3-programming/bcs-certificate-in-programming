{
 "cells": [
  {
   "cell_type": "markdown",
   "metadata": {},
   "source": [
    "# 5. Inheritance\n",
    "In the context of classes and objects, inheritance is a fundamental principle of object-oriented programming (OOP) that allows a class (called the subclass or derived class) to inherit attributes and behaviours (properties and methods) from another class (called the superclass or base class).\n",
    "\n",
    "In simpler terms, inheritance allows us to create a new class based on an existing class. The new class inherits the characteristics of the existing class and can also have additional properties and methods or even override the inherited ones. This mechanism promotes code reusability and establishes a natural hierarchy between classes, mimicking real-world relationships.\n",
    "\n",
    "Let's take a classic example involving animals."
   ]
  },
  {
   "cell_type": "code",
   "execution_count": null,
   "metadata": {},
   "outputs": [],
   "source": [
    "class Animal:\n",
    "    def __init__(self, name, age):\n",
    "        self.name = name  # Initialize the name attribute\n",
    "        self.age = age    # Initialize the age attribute\n",
    "\n",
    "    def eat(self):\n",
    "        print(self.name + \" is eating.\")\n",
    "\n",
    "    def sleep(self):\n",
    "        print(self.name + \" is sleeping.\")\n",
    "\n",
    "# Subclass Dog\n",
    "class Dog(Animal):   # Dog class inherits from Animal class\n",
    "\n",
    "    # New method specific to Dog class\n",
    "    def bark(self):\n",
    "        print(self.name + \" is barking.\")\n",
    "\n",
    "# Create an Animal object\n",
    "animal = Animal(\"Generic Animal\", 5)\n",
    "\n",
    "# Create a Dog object\n",
    "dog = Dog(\"Fido\", 3)\n",
    "\n",
    "# Demonstrate inheritance by calling methods on both objects\n",
    "\n",
    "animal.eat()    # Output: Generic Animal is eating.\n",
    "animal.sleep()  # Output: Generic Animal is sleeping.\n",
    "\n",
    "dog.eat()       # Output: Fido is eating.\n",
    "dog.sleep()     # Output: Fido is sleeping.\n",
    "\n",
    "# Call the bark method, which is specific to the Dog class\n",
    "dog.bark()      # Output: Fido is barking."
   ]
  },
  {
   "cell_type": "markdown",
   "metadata": {},
   "source": [
    "## Breakdown of Code\n",
    "\n",
    "Class Definitions:\n",
    "1. __Two classes are defined: Animal and Dog.__ Animal is the superclass, and Dog is a subclass of Animal. In object-oriented programming, a subclass can inherit attributes and methods from its superclass.\n",
    "\n",
    "2. Animal Class:\n",
    "__The Animal class has an __init__ method, which serves as the constructor.__ It takes two parameters, name and age, and initializes two attributes, self.name and self.age, with the values provided as arguments.\n",
    "The _eat_ method prints a message indicating that the animal is eating.\n",
    "The _sleep_ method prints a message indicating that the animal is sleeping.\n",
    "\n",
    "3. __Dog Class (Subclass of Animal):__\n",
    "The Dog class is defined as a subclass of Animal by specifying (Animal) after its name in the class definition.\n",
    "The bark method is specific to the Dog class. It prints a message indicating that the dog is barking.\n",
    "\n",
    "4. __Object Creation:__\n",
    "An Animal object named animal is created with the name \"Generic Animal\" and age 5.\n",
    "A Dog object named dog is created with the name \"Fido\" and age 3.\n",
    "\n",
    "5. __Demonstrating Inheritance:__\n",
    "You demonstrate inheritance by calling methods on both animal and dog objects:\n",
    "animal.eat() calls the eat method of the Animal class and prints \"Generic Animal is eating.\"\n",
    "animal.sleep() calls the sleep method of the Animal class and prints \"Generic Animal is sleeping.\"\n",
    "dog.eat() calls the eat method inherited from the Animal class and prints \"Fido is eating.\"\n",
    "dog.sleep() calls the sleep method inherited from the Animal class and prints \"Fido is sleeping.\"\n",
    "\n",
    "6. __Calling bark Method:__\n",
    "Finally, you call the bark method, which is specific to the Dog class, using dog.bark(). It prints \"Fido is barking.\"\n",
    "In summary, this code demonstrates the concept of inheritance in object-oriented programming. The Dog class inherits attributes and methods from the Animal class, and it can also have its own unique methods, such as bark. Objects of both classes, animal and dog, are created and their methods are called to showcase how inheritance works."
   ]
  }
 ],
 "metadata": {
  "kernelspec": {
   "display_name": "Python 3",
   "language": "python",
   "name": "python3"
  },
  "language_info": {
   "codemirror_mode": {
    "name": "ipython",
    "version": 3
   },
   "file_extension": ".py",
   "mimetype": "text/x-python",
   "name": "python",
   "nbconvert_exporter": "python",
   "pygments_lexer": "ipython3",
   "version": "3.10.11"
  },
  "orig_nbformat": 4
 },
 "nbformat": 4,
 "nbformat_minor": 2
}
