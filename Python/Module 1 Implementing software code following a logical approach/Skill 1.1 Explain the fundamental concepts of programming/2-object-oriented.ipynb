{
 "cells": [
  {
   "cell_type": "markdown",
   "metadata": {},
   "source": [
    "# 3. Working with Object-Oriented Code\n",
    "Object-oriented code, often abbreviated as OOP, is a programming paradigm that revolves around the concept of organizing code into objects. Objects are self-contained units that combine data (attributes) and the functions (methods) that operate on that data. This approach allows developers to model real-world entities and their interactions in a structured and modular way.\n",
    "\n",
    "In object-oriented programming, everything is treated as an object, and the relationships between objects are a fundamental aspect of the design. Key principles of OOP include encapsulation, inheritance, and polymorphism:\n",
    "\n",
    "<ol><li>Encapsulation: This principle involves bundling data and methods into a single unit (i.e., an object) and restricting direct access to an object's internal state. Instead, interactions with the object are typically performed through its methods, ensuring data integrity and security.</li>\n",
    "\n",
    "<li>Inheritance: Inheritance allows objects to inherit properties and behaviors from other objects, creating a hierarchy of classes. This promotes code reuse and the creation of specialized classes based on existing ones.</li>\n",
    "\n",
    "<li>Polymorphism: Polymorphism enables objects of different classes to be treated as objects of a common base class. This facilitates flexibility and extensibility in code, as different objects can respond to the same method call in a way that is appropriate for their specific class.</li>\n",
    "\n",
    "<li>Object-oriented programming languages, such as Java, C++, and Python, are designed to facilitate OOP practices, but the principles of OOP can also be applied in other languages. This paradigm encourages developers to think in terms of objects and their interactions, which can lead to more organized, modular, and maintainable code.</li></ol>\n",
    "\n",
    "<p>Look at the code below, calculating the area and perimeter of a rectangle:</p>"
   ]
  },
  {
   "cell_type": "code",
   "execution_count": null,
   "metadata": {},
   "outputs": [],
   "source": [
    "# Define the Rectangle class\n",
    "class Rectangle:\n",
    "\n",
    "    # Constructor: initializes the rectangle with provided length and width.\n",
    "    # 'self' is a reference to the instance of the class.\n",
    "    def __init__(self, length, width):\n",
    "        # These are instance variables. By convention, there's no strict 'private' in Python.\n",
    "        # But prefixing with an underscore suggests it's intended to be private.\n",
    "        self._length = length\n",
    "        self._width = width\n",
    "\n",
    "    # Method to compute the area of the rectangle\n",
    "    def area(self):\n",
    "        return self._length * self._width\n",
    "\n",
    "    # Method to compute the perimeter of the rectangle\n",
    "    def perimeter(self):\n",
    "        return 2 * (self._length + self._width)\n",
    "\n",
    "\n",
    "# Create a rectangle object with dimensions 5x10\n",
    "r1 = Rectangle(5, 10)\n",
    "# Print the area and perimeter of the rectangle\n",
    "print(\"Area:\", r1.area())\n",
    "print(\"Perimeter:\", r1.perimeter())\n",
    "\n",
    "# Example Output:\n",
    "# Area: 50\n",
    "# Perimeter: 30"
   ]
  },
  {
   "cell_type": "markdown",
   "metadata": {},
   "source": [
    "Now create your own program to calculate the area and circumference of a circle."
   ]
  },
  {
   "cell_type": "code",
   "execution_count": null,
   "metadata": {},
   "outputs": [],
   "source": [
    "# Add your code here"
   ]
  }
 ],
 "metadata": {
  "kernelspec": {
   "display_name": "Python 3",
   "language": "python",
   "name": "python3"
  },
  "language_info": {
   "codemirror_mode": {
    "name": "ipython",
    "version": 3
   },
   "file_extension": ".py",
   "mimetype": "text/x-python",
   "name": "python",
   "nbconvert_exporter": "python",
   "pygments_lexer": "ipython3",
   "version": "3.10.11"
  },
  "orig_nbformat": 4
 },
 "nbformat": 4,
 "nbformat_minor": 2
}
