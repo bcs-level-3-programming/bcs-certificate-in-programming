{
 "cells": [
  {
   "cell_type": "markdown",
   "metadata": {},
   "source": [
    "# 3. Working with Procedural Code\n",
    "\n",
    "Procedural code, often referred to as procedural programming, is a programming paradigm that focuses on writing code as a series of procedures or routines. In procedural programming, the program's logic is divided into functions or procedures, which are executed sequentially. These procedures are responsible for carrying out specific tasks and often manipulate data stored in variables.\n",
    "\n",
    "Key characteristics of procedural code include:\n",
    "\n",
    "<ol><li><strong>Top-down Structure</strong>: Procedural code is typically structured in a top-down manner, where the main program is divided into smaller, more manageable procedures. Each procedure is responsible for a specific part of the program's functionality.</li>\n",
    "\n",
    "<li><strong>Emphasis on Data:</strong> Data is usually global or passed as arguments to procedures. Procedures can modify global data, which can lead to potential issues with data integrity if not managed carefully.</li>\n",
    "\n",
    "<li><strong>Limited Reusability:</strong> Procedures can be reused within the same program, but they are not as easily reusable across different projects as objects or functions in other paradigms.</li>\n",
    "\n",
    "<li><strong>Procedural Languages:</strong> While procedural programming concepts can be applied in many languages, there are specific procedural programming languages, such as C and Pascal, that are well-suited for this paradigm.</li></ol>\n",
    "\n",
    "Procedural programming is often used for tasks that involve a series of step-by-step operations, such as file manipulation, data processing, or system-level programming. While it may not be as modular and structured as object-oriented or functional programming, procedural code can be efficient and straightforward for solving specific types of problems.\n",
    "\n",
    "In summary, procedural code organizes a program's logic into procedures or functions that are executed sequentially, making it a suitable choice for certain types of programming tasks."
   ]
  },
  {
   "cell_type": "code",
   "execution_count": null,
   "metadata": {},
   "outputs": [],
   "source": [
    "# Declare Variables (Variable Scope and State)\n",
    "width = 0\n",
    "height = 0\n",
    "\n",
    "# Procedure to calculate area (Procedures/Functions)\n",
    "def calculate_area(w, h):\n",
    "    area = w * h  # Sequential Execution\n",
    "    print(f\"Area: {area}\")\n",
    "\n",
    "# Main Execution Sequence\n",
    "width = 5\n",
    "height = 10\n",
    "calculate_area(width, height)  # Flow Control"
   ]
  }
 ],
 "metadata": {
  "kernelspec": {
   "display_name": "Python 3",
   "language": "python",
   "name": "python3"
  },
  "language_info": {
   "name": "python",
   "version": "3.10.11"
  },
  "orig_nbformat": 4
 },
 "nbformat": 4,
 "nbformat_minor": 2
}
