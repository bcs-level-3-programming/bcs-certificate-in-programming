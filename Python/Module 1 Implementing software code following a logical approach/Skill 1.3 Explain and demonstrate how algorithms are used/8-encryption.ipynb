{
 "cells": [
  {
   "cell_type": "markdown",
   "metadata": {},
   "source": [
    "# Encryption\n",
    "\n",
    "The Caesar cipher, named after Julius Caesar, is one of the simplest and earliest known encryption techniques in the history of cryptography. It is a substitution cipher that operates by shifting the letters of the alphabet by a fixed number of positions. This fixed number is known as the \"key\" or \"shift value.\"\n",
    "\n",
    "In its most basic form, the Caesar cipher involves replacing each letter in the plaintext (the message to be encrypted) with the letter located a fixed number of positions down or up the alphabet. For example, with a shift value of 3, \"A\" becomes \"D,\" \"B\" becomes \"E,\" and so on. The process is reversible, allowing decryption by shifting the letters in the opposite direction.\n",
    "\n",
    "Despite its simplicity, the Caesar cipher was once considered a reasonably secure method of encryption for military and diplomatic communications, as it required both knowledge of the cipher and the specific shift value to decrypt the message. However, with modern computing power, brute-force attacks and frequency analysis make it relatively easy to break this cipher.\n",
    "\n",
    "Nonetheless, the Caesar cipher serves as an important historical foundation for the study of cryptography and encryption methods. It illustrates the basic principles of substitution ciphers and lays the groundwork for more complex and secure cryptographic techniques developed in the centuries that followed."
   ]
  },
  {
   "cell_type": "code",
   "execution_count": null,
   "metadata": {},
   "outputs": [],
   "source": [
    "def encrypt(text, shift):\n",
    "    encrypted_text = \"\"\n",
    "    for char in text:\n",
    "        if char.isalpha():\n",
    "            # Determine whether it's uppercase or lowercase\n",
    "            is_upper = char.isupper()\n",
    "            char = char.lower()\n",
    "\n",
    "            # Apply the Caesar cipher shift\n",
    "            encrypted_char = chr(((ord(char) - ord('a') + shift) % 26) + ord('a'))\n",
    "\n",
    "            # Convert back to uppercase if needed\n",
    "            if is_upper:\n",
    "                encrypted_char = encrypted_char.upper()\n",
    "\n",
    "            encrypted_text += encrypted_char\n",
    "        else:\n",
    "            encrypted_text += char\n",
    "\n",
    "    return encrypted_text\n",
    "\n",
    "# Get user input for the text to encrypt\n",
    "text = input(\"Enter the text to encrypt: \")\n",
    "\n",
    "# Get the encryption key (shift value)\n",
    "shift = int(input(\"Enter the encryption key (a positive integer): \"))\n",
    "\n",
    "# Encrypt the input text\n",
    "encrypted_text = encrypt(text, shift)\n",
    "\n",
    "# Display the encrypted text\n",
    "print(\"Encrypted text:\", encrypted_text)\n"
   ]
  },
  {
   "cell_type": "markdown",
   "metadata": {},
   "source": [
    "Here's how the program works:\n",
    "\n",
    "1. The encrypt function takes two parameters: text (the text to be encrypted) and shift (the number of positions to shift characters).\n",
    "2. The function iterates through each character in the input text:\n",
    "3. If the character is an alphabet letter (either uppercase or lowercase), it applies the Caesar cipher shift.\n",
    "4. If the character is not an alphabet letter, it leaves it unchanged.\n",
    "5. The encrypted text is built character by character and returned.\n",
    "6. The user is prompted to enter the text they want to encrypt and the encryption key (shift value).\n",
    "7. The program calls the encrypt function to encrypt the input text and then displays the encrypted result.\n",
    "\n",
    "Now, here's a Python program that takes user input and encrypts it using the SHA-256 (Secure Hash Algorithm 256-bit) hashing algorithm. Hashing is a one-way function, meaning it's not meant for encryption but for generating fixed-size, irreversible hashes from data. It's commonly used for data integrity verification and password storage.\n"
   ]
  },
  {
   "cell_type": "code",
   "execution_count": null,
   "metadata": {},
   "outputs": [],
   "source": [
    "import hashlib\n",
    "\n",
    "# Function to hash user input using SHA-256\n",
    "def sha256_hash(text):\n",
    "    # Create a new SHA-256 hash object\n",
    "    sha256 = hashlib.sha256()\n",
    "    \n",
    "    # Update the hash object with the input text\n",
    "    sha256.update(text.encode('utf-8'))\n",
    "    \n",
    "    # Get the hexadecimal representation of the hash\n",
    "    hashed_text = sha256.hexdigest()\n",
    "    \n",
    "    return hashed_text\n",
    "\n",
    "# Get user input for the text to hash\n",
    "text = input(\"Enter the text to hash: \")\n",
    "\n",
    "# Hash the input text using SHA-256\n",
    "hashed_text = sha256_hash(text)\n",
    "\n",
    "# Display the hashed text\n",
    "print(\"SHA-256 Hash:\", hashed_text)"
   ]
  }
 ],
 "metadata": {
  "kernelspec": {
   "display_name": "Python 3",
   "language": "python",
   "name": "python3"
  },
  "language_info": {
   "codemirror_mode": {
    "name": "ipython",
    "version": 3
   },
   "file_extension": ".py",
   "mimetype": "text/x-python",
   "name": "python",
   "nbconvert_exporter": "python",
   "pygments_lexer": "ipython3",
   "version": "3.10.11"
  },
  "orig_nbformat": 4
 },
 "nbformat": 4,
 "nbformat_minor": 2
}
