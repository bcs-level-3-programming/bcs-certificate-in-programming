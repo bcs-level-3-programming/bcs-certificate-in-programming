{
 "cells": [
  {
   "cell_type": "markdown",
   "metadata": {},
   "source": [
    "<h1>1. Working with Functional Code</h1>\n",
    "Functional code is a programming paradigm that revolves around the concept of treating computation as the evaluation of mathematical functions. Unlike imperative programming, where code is structured around statements that change program state, functional code focuses on creating functions that produce consistent and predictable results based solely on their input. In functional programming, functions are first-class citizens, which means they can be passed as arguments to other functions, returned as values, and assigned to variables. This approach to coding promotes modularity, immutability, and the avoidance of side effects, making it a powerful and elegant way to write robust and maintainable software.\n",
    "\n",
    "Functional programming languages, such as Haskell, Lisp, and Scala, are designed to facilitate this style of coding, but functional principles can also be applied in languages like Python, JavaScript, and even Java. In this paradigm, the emphasis is on writing code that is easier to reason about, test, and debug, ultimately leading to more reliable and efficient software systems."
   ]
  },
  {
   "cell_type": "code",
   "execution_count": null,
   "metadata": {},
   "outputs": [],
   "source": [
    "# Define lambda functions for area and perimeter\n",
    "compute_area = lambda l, w: l * w\n",
    "compute_perimeter = lambda l, w: 2 * (l + w)\n",
    "\n",
    "# Define length and width\n",
    "length = 5\n",
    "width = 10\n",
    "\n",
    "# Calculating area and perimeter\n",
    "area = compute_area(length, width)\n",
    "perimeter = compute_perimeter(length, width)\n",
    "\n",
    "# Printing the results\n",
    "print(f\"Area: {area}\")\n",
    "print(f\"Perimeter: {perimeter}\")"
   ]
  },
  {
   "cell_type": "markdown",
   "metadata": {},
   "source": [
    "Create a program to calculate the area and circumference of a circle"
   ]
  },
  {
   "cell_type": "code",
   "execution_count": null,
   "metadata": {
    "vscode": {
     "languageId": "plaintext"
    }
   },
   "outputs": [],
   "source": [
    "# Add code here"
   ]
  }
 ],
 "metadata": {
  "kernelspec": {
   "display_name": "Python 3",
   "language": "python",
   "name": "python3"
  },
  "language_info": {
   "codemirror_mode": {
    "name": "ipython",
    "version": 3
   },
   "file_extension": ".py",
   "mimetype": "text/x-python",
   "name": "python",
   "nbconvert_exporter": "python",
   "pygments_lexer": "ipython3",
   "version": "3.10.11"
  },
  "orig_nbformat": 4
 },
 "nbformat": 4,
 "nbformat_minor": 2
}
